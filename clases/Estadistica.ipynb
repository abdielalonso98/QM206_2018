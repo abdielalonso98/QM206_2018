{
 "cells": [
  {
   "cell_type": "code",
   "execution_count": 1,
   "metadata": {},
   "outputs": [],
   "source": [
    "import numpy as np\n"
   ]
  },
  {
   "cell_type": "code",
   "execution_count": 99,
   "metadata": {},
   "outputs": [],
   "source": [
    "class estadistica:\n",
    "    def __init__(self,x):\n",
    "            self.x=x\n",
    "    def promedio(self):\n",
    "            n=len(self.x)\n",
    "            promedio=sum(self.x)/n\n",
    "            return promedio\n",
    "    def varianza(self):\n",
    "        n=len(self.x)\n",
    "        sigma2=sum((self.x-promedio(self.x))*(x-promedio(self.x)))/(n-1)\n",
    "        return sigma2    \n",
    "    def minimo (self):\n",
    "        minx=9E99\n",
    "        for a in self.x:\n",
    "            if a<minx:\n",
    "                minx=a\n",
    "        return minx\n",
    "    def maximo(self):\n",
    "        max_x=-9E99\n",
    "        for a in self.x:\n",
    "            if a>max_x:\n",
    "                max_x=a\n",
    "        return max_x"
   ]
  },
  {
   "cell_type": "code",
   "execution_count": 100,
   "metadata": {},
   "outputs": [],
   "source": [
    "def promedio(x):\n",
    "    n=len(x)\n",
    "    promedio=sum(x)/n\n",
    "    return promedio \n",
    "def varianza(x):\n",
    "    n=len(x)\n",
    "    sigma2=sum((x-promedio(x))*(x-promedio(x)))/(n-1)\n",
    "    return sigma2\n",
    "def minimo(x):\n",
    "    minx=9E99\n",
    "    for a in x:\n",
    "        if a<minx:\n",
    "            minx=a\n",
    "    return minx\n",
    "def maximo(x):\n",
    "    max_x=-9E99\n",
    "    for a in x:\n",
    "        if a>max_x:\n",
    "            max_x=a\n",
    "    return max_x"
   ]
  },
  {
   "cell_type": "code",
   "execution_count": 101,
   "metadata": {},
   "outputs": [
    {
     "data": {
      "text/plain": [
       "4.428571428571429"
      ]
     },
     "execution_count": 101,
     "metadata": {},
     "output_type": "execute_result"
    }
   ],
   "source": [
    "x=np.array([3,5,6,1,6,7,3])\n",
    "promedio(x)"
   ]
  },
  {
   "cell_type": "code",
   "execution_count": 102,
   "metadata": {},
   "outputs": [
    {
     "data": {
      "text/plain": [
       "0.4805378789638607"
      ]
     },
     "execution_count": 102,
     "metadata": {},
     "output_type": "execute_result"
    }
   ],
   "source": [
    "x=np.random.rand(100)\n",
    "promedio(x)"
   ]
  },
  {
   "cell_type": "code",
   "execution_count": 103,
   "metadata": {},
   "outputs": [
    {
     "name": "stdout",
     "output_type": "stream",
     "text": [
      "promedio=0.5311\n",
      "varianza=0.0878\n"
     ]
    }
   ],
   "source": [
    "x=np.random.rand(100)\n",
    "print(\"promedio=%3.4f\"%promedio(x))\n",
    "print(\"varianza=%3.4f\"%varianza(x))\n"
   ]
  },
  {
   "cell_type": "code",
   "execution_count": 104,
   "metadata": {},
   "outputs": [
    {
     "name": "stdout",
     "output_type": "stream",
     "text": [
      "Mínimo=1.0000\n",
      "Máximo=7.0000\n"
     ]
    }
   ],
   "source": [
    "x=np.array([3,5,6,1,6,7,3])\n",
    "print(\"Mínimo=%3.4f\"%minimo(x))\n",
    "print(\"Máximo=%3.4f\"%maximo(x))"
   ]
  },
  {
   "cell_type": "code",
   "execution_count": 105,
   "metadata": {},
   "outputs": [],
   "source": [
    "x=np.array([3,5,6,1,6,7,3])\n",
    "st=estadistica(x)"
   ]
  },
  {
   "cell_type": "code",
   "execution_count": 106,
   "metadata": {},
   "outputs": [
    {
     "data": {
      "text/plain": [
       "4.428571428571429"
      ]
     },
     "execution_count": 106,
     "metadata": {},
     "output_type": "execute_result"
    }
   ],
   "source": [
    "st.promedio()"
   ]
  },
  {
   "cell_type": "code",
   "execution_count": 111,
   "metadata": {},
   "outputs": [
    {
     "data": {
      "text/plain": [
       "7"
      ]
     },
     "execution_count": 111,
     "metadata": {},
     "output_type": "execute_result"
    }
   ],
   "source": [
    "st.maximo()"
   ]
  },
  {
   "cell_type": "code",
   "execution_count": 108,
   "metadata": {},
   "outputs": [
    {
     "data": {
      "text/plain": [
       "4.6190476190476195"
      ]
     },
     "execution_count": 108,
     "metadata": {},
     "output_type": "execute_result"
    }
   ],
   "source": [
    "st.varianza()"
   ]
  },
  {
   "cell_type": "code",
   "execution_count": 109,
   "metadata": {},
   "outputs": [
    {
     "data": {
      "text/plain": [
       "1"
      ]
     },
     "execution_count": 109,
     "metadata": {},
     "output_type": "execute_result"
    }
   ],
   "source": [
    "st.minimo()"
   ]
  },
  {
   "cell_type": "code",
   "execution_count": null,
   "metadata": {},
   "outputs": [],
   "source": [
    " "
   ]
  },
  {
   "cell_type": "code",
   "execution_count": null,
   "metadata": {},
   "outputs": [],
   "source": []
  }
 ],
 "metadata": {
  "kernelspec": {
   "display_name": "Python 3",
   "language": "python",
   "name": "python3"
  },
  "language_info": {
   "codemirror_mode": {
    "name": "ipython",
    "version": 3
   },
   "file_extension": ".py",
   "mimetype": "text/x-python",
   "name": "python",
   "nbconvert_exporter": "python",
   "pygments_lexer": "ipython3",
   "version": "3.6.5"
  }
 },
 "nbformat": 4,
 "nbformat_minor": 2
}
