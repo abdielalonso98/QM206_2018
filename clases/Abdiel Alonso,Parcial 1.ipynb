{
 "cells": [
  {
   "cell_type": "code",
   "execution_count": 1,
   "metadata": {},
   "outputs": [],
   "source": [
    "import numpy as np\n",
    "import matplotlib.pyplot as plt "
   ]
  },
  {
   "cell_type": "code",
   "execution_count": 7,
   "metadata": {},
   "outputs": [
    {
     "data": {
      "image/png": "[encoded data removed]",
      "text/plain": [
       "<Figure size 432x288 with 1 Axes>"
      ]
     },
     "metadata": {},
     "output_type": "display_data"
    }
   ],
   "source": [
    "x=np.random.rand(100)\n",
    "y=np.random.rand(100)\n",
    "plt.scatter\n",
    "\n",
    "(x,y)\n",
    "plt.title(\"y vs x\")\n",
    "plt.xlabel(\"x\")\n",
    "plt.ylabel(\"y\")\n",
    "plt.show()\n"
   ]
  },
  {
   "cell_type": "code",
   "execution_count": 25,
   "metadata": {},
   "outputs": [
    {
     "name": "stdout",
     "output_type": "stream",
     "text": [
      "C*3+H*8+N+O*2\n",
      "90.102\n"
     ]
    }
   ],
   "source": [
    "elementos={'H': [1.008, 'Hydrogen', 'H', -259, -253, 0.09],\n",
    "'He': [4.003, 'Helium', 'He', -272, -269, 0.18],\n",
    "'Li': [6.941, 'Lithium', 'Li', 180, 1347, 0.53],\n",
    "'Be': [9.012, 'Beryllium', 'Be', 1278, 2970, 1.85],\n",
    "'B': [10.811, 'Boron', 'B', 2300, 2550, 2.34],\n",
    "'C': [12.011, 'Carbon', 'C', 3500, 4827, 2.26],\n",
    "'N': [14.007, 'Nitrogen', 'N', -210, -196, 1.25],\n",
    "'O': [15.999, 'Oxygen', 'O', -218, -183, 1.43],\n",
    "'F': [18.998, 'Fluorine', 'F', -220, -188, 1.7]}\n",
    "\n",
    "formula=\"C3H8NO2\"\n",
    "elem=[]\n",
    "cad=\"\"\n",
    "ca=\"\"\n",
    "cad=\"\"\n",
    "for x in formula:\n",
    "   if x>=\"A\" and x<=\"Z\":\n",
    "       elem.append(x)\n",
    "   if x>=\"a\" and x<=\"z\":\n",
    "       s=elem.pop()\n",
    "       s=s+x\n",
    "       elem.append(s)\n",
    "       \n",
    "   if (x>=\"0\" and x<=\"9\") and (ca==\"LM\" or ca==\"lm\"):\n",
    "       cad=cad+\"*\"\n",
    "   if x==\"(\" and (ca==\"N\" or ca==\"LM\" or ca==\"lm\"):\n",
    "       cad=cad+\"+\"\n",
    "   if x>=\"0\" and x<=\"9\" and ca==\")\":\n",
    "       cad=cad+\"*\"\n",
    "   if (x>=\"A\" and x<=\"Z\") and (ca==\"LM\" or ca==\"lm\"):\n",
    "           cad= cad+\"+\"\n",
    "   if (x>=\"A\" and x<=\"Z\") and ca==\"N\":\n",
    "       cad=cad+\"+\"\n",
    "       \n",
    "   cad=cad+x\n",
    "   \n",
    "   if x>=\"A\" and x<=\"Z\":\n",
    "       ca=\"LM\"\n",
    "   if x>=\"a\" and x<=\"z\":\n",
    "       ca=\"Lm\"\n",
    "   if x>=\"0\" and x<=\"9\":\n",
    "       ca=\"N\"\n",
    "   if x==\"(\":\n",
    "       ca=\"(\"\n",
    "   if x==\")\":\n",
    "       ca=\")\"\n",
    "       \n",
    "   \n",
    "       \n",
    "print(cad)\n",
    "for e in elem:\n",
    "   peso=str(elementos[e][0])\n",
    "   cad=cad.replace(e,peso)\n",
    "PM=eval(cad)\n",
    "print(PM)"
   ]
  },
  {
   "cell_type": "code",
   "execution_count": null,
   "metadata": {},
   "outputs": [],
   "source": [
    "ca=0.1\n",
    "cb=0.01\n",
    "pKa=4.72\n",
    "x=np.arange(\"0.1,0.9,0.01\")\n",
    "pH=pKa+log"
   ]
  },
  {
   "cell_type": "code",
   "execution_count": 23,
   "metadata": {},
   "outputs": [],
   "source": [
    "def peso_molecular(formula):\n",
    "    c=12.01\n",
    "    H=1.01\n",
    "    N=14.01\n",
    "    O=16.00\n",
    "    PM=3*C+8*H+1*N+2*O\n",
    "    return PM"
   ]
  },
  {
   "cell_type": "code",
   "execution_count": 24,
   "metadata": {},
   "outputs": [
    {
     "data": {
      "text/plain": [
       "69.57"
      ]
     },
     "execution_count": 24,
     "metadata": {},
     "output_type": "execute_result"
    }
   ],
   "source": [
    "formula=[6,7,1,1]\n",
    "peso_molecular(formula)"
   ]
  },
  {
   "cell_type": "code",
   "execution_count": 26,
   "metadata": {},
   "outputs": [
    {
     "data": {
      "image/png": "[encoded data removed]",
      "text/plain": [
       "<Figure size 432x288 with 1 Axes>"
      ]
     },
     "metadata": {},
     "output_type": "display_data"
    }
   ],
   "source": [
    "A=3.52\n",
    "B=2.85\n",
    "C=5.16\n",
    "x=np.arange(0.1,1.0)\n",
    "y=A+10**(x)*B+C*x**2/2\n",
    "plt.plot(x,y)\n",
    "plt.show()"
   ]
  },
  {
   "cell_type": "code",
   "execution_count": null,
   "metadata": {},
   "outputs": [],
   "source": []
  }
 ],
 "metadata": {
  "kernelspec": {
   "display_name": "Python 3",
   "language": "python",
   "name": "python3"
  },
  "language_info": {
   "codemirror_mode": {
    "name": "ipython",
    "version": 3
   },
   "file_extension": ".py",
   "mimetype": "text/x-python",
   "name": "python",
   "nbconvert_exporter": "python",
   "pygments_lexer": "ipython3",
   "version": "3.6.5"
  }
 },
 "nbformat": 4,
 "nbformat_minor": 2
}
