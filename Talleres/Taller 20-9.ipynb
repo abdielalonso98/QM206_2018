{
 "cells": [
  {
   "cell_type": "code",
   "execution_count": 1,
   "metadata": {},
   "outputs": [],
   "source": [
    "import numpy as np\n",
    "import matplotlib.pyplot as plt"
   ]
  },
  {
   "cell_type": "code",
   "execution_count": 40,
   "metadata": {},
   "outputs": [],
   "source": [
    "class reglin:\n",
    "    def __init__(self):\n",
    "        self.pendiente=0\n",
    "        self.intercepto=0\n",
    "    def regresion_lineal(self,x,y):\n",
    "        \"\"\"calcula la pendiente y el intercepto de la regresion lineal\"\"\"\n",
    "        n=len(x)\n",
    "        detM=n*sum(x*x)-sum(x)*sum(x)\n",
    "        detA=sum(y)*sum(x*x)-sum(x*y)*sum(x)\n",
    "        detB=n*sum(x*y)-sum(x)*sum(y)\n",
    "        a=detA/detM\n",
    "        b=detB/detM\n",
    "        self.pendiente=b\n",
    "        self.intercepto=a\n",
    "        return [a,b]    \n",
    "    def graficar(self,x,y):\n",
    "        ycal=x*self.pendiente+self.intercepto\n",
    "        plt.plot(x,y,\"ro\")\n",
    "        plt.plot(ycal,\"b--\")\n",
    "        plt.xlabel(\"t(seg)\")\n",
    "        plt.ylabel(\"distancia(m)\")\n",
    "        plt.title(\"distancia vs tiempo\")\n",
    "        plt.show()\n",
    "        "
   ]
  },
  {
   "cell_type": "code",
   "execution_count": 41,
   "metadata": {},
   "outputs": [],
   "source": [
    "def regresion_lineal(x,y):\n",
    "    n=len(x)\n",
    "    detM=n*sum(x*x)-sum(x)*sum(x)\n",
    "    detA=sum(y)*sum(x*x)-sum(x*y)*sum(x)\n",
    "    detB=n*sum(x*y)-sum(x)*sum(y)\n",
    "    a=detA/detM\n",
    "    b=detB/detM\n",
    "\n",
    "    return [a,b]"
   ]
  },
  {
   "cell_type": "code",
   "execution_count": 44,
   "metadata": {},
   "outputs": [
    {
     "ename": "SyntaxError",
     "evalue": "invalid syntax (<ipython-input-44-bbbc8cb91ac7>, line 3)",
     "output_type": "error",
     "traceback": [
      "\u001b[0;36m  File \u001b[0;32m\"<ipython-input-44-bbbc8cb91ac7>\"\u001b[0;36m, line \u001b[0;32m3\u001b[0m\n\u001b[0;31m    reg=regresion lineal(x,y)\u001b[0m\n\u001b[0m                       ^\u001b[0m\n\u001b[0;31mSyntaxError\u001b[0m\u001b[0;31m:\u001b[0m invalid syntax\n"
     ]
    }
   ],
   "source": [
    "x=np.array([0,1,2,3,4,5])\n",
    "y=x*5+4+np.random.randn(6)*3\n",
    "reg=regresion lineal(x,y)\n",
    "ycal=x*reg[1]+reg[0]\n",
    "ycal\n",
    "\n"
   ]
  },
  {
   "cell_type": "code",
   "execution_count": 36,
   "metadata": {},
   "outputs": [
    {
     "data": {
      "image/png": "[encoded data removed]",
      "text/plain": [
       "<Figure size 432x288 with 1 Axes>"
      ]
     },
     "metadata": {},
     "output_type": "display_data"
    }
   ],
   "source": [
    "plt.plot(x,y,\"ro\")\n",
    "plt.xlabel(\"t(seg)\")\n",
    "plt.ylabel(\"distancia(m)\")\n",
    "plt.title(\"distancia vs tiempo\")\n",
    "plt.show()"
   ]
  },
  {
   "cell_type": "code",
   "execution_count": 37,
   "metadata": {},
   "outputs": [
    {
     "data": {
      "text/plain": [
       "[1.21201212023191, 5.658365393291197]"
      ]
     },
     "execution_count": 37,
     "metadata": {},
     "output_type": "execute_result"
    }
   ],
   "source": [
    "x=np.array([0,1,2,3,4,5])\n",
    "y=x*5+4+np.random.randn(6)*3\n",
    "\n",
    "reg= reglin()\n",
    "reg.regresion_lineal(x,y)"
   ]
  },
  {
   "cell_type": "code",
   "execution_count": 38,
   "metadata": {},
   "outputs": [
    {
     "data": {
      "text/plain": [
       "5.658365393291197"
      ]
     },
     "execution_count": 38,
     "metadata": {},
     "output_type": "execute_result"
    }
   ],
   "source": [
    "reg.pendiente"
   ]
  },
  {
   "cell_type": "code",
   "execution_count": 39,
   "metadata": {},
   "outputs": [
    {
     "data": {
      "text/plain": [
       "1.21201212023191"
      ]
     },
     "execution_count": 39,
     "metadata": {},
     "output_type": "execute_result"
    }
   ],
   "source": [
    "reg.intercepto"
   ]
  },
  {
   "cell_type": "code",
   "execution_count": null,
   "metadata": {},
   "outputs": [],
   "source": []
  }
 ],
 "metadata": {
  "kernelspec": {
   "display_name": "Python 3",
   "language": "python",
   "name": "python3"
  },
  "language_info": {
   "codemirror_mode": {
    "name": "ipython",
    "version": 3
   },
   "file_extension": ".py",
   "mimetype": "text/x-python",
   "name": "python",
   "nbconvert_exporter": "python",
   "pygments_lexer": "ipython3",
   "version": "3.6.5"
  }
 },
 "nbformat": 4,
 "nbformat_minor": 2
}
